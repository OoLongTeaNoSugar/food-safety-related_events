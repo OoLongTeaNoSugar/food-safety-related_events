{
 "cells": [
  {
   "cell_type": "code",
   "execution_count": 1,
   "metadata": {
    "collapsed": true
   },
   "outputs": [],
   "source": [
    "import re\n",
    "import time\n",
    "import gc\n",
    "import random\n",
    "import os\n",
    "\n",
    "import numpy as np\n",
    "import pandas as pd\n",
    "\n",
    "# 处理大小写,错漏词,重复词等\n",
    "# from tensorflow.keras.preprocessing.text import Tokenizer\n",
    "# from tensorflow.keras.preprocessing.sequence import pad_sequences\n"
   ]
  },
  {
   "cell_type": "code",
   "execution_count": 6,
   "metadata": {},
   "outputs": [
    {
     "name": "stdout",
     "output_type": "stream",
     "text": [
      "<class 'pandas.core.frame.DataFrame'>\nRangeIndex: 4183 entries, 0 to 4182\nData columns (total 7 columns):\nDate            4183 non-null object\nTime            4183 non-null object\nTrainig/Test    4183 non-null object\nEvent ID        2958 non-null float64\nTitle           4183 non-null object\nLink            4183 non-null object\nAbstract        4176 non-null object\ndtypes: float64(1), object(6)\nmemory usage: 228.8+ KB\n"
     ]
    }
   ],
   "source": [
    "train_df = pd.read_table(\"/home/richard/PycharmProjects/food-safety-related events (NLP)/[Updated] Training Set for Competition.txt\")\n",
    "train_df.info()"
   ]
  },
  {
   "cell_type": "code",
   "execution_count": null,
   "metadata": {},
   "outputs": [],
   "source": []
  }
 ],
 "metadata": {
  "kernelspec": {
   "display_name": "Python 2",
   "language": "python",
   "name": "python2"
  },
  "language_info": {
   "codemirror_mode": {
    "name": "ipython",
    "version": 2
   },
   "file_extension": ".py",
   "mimetype": "text/x-python",
   "name": "python",
   "nbconvert_exporter": "python",
   "pygments_lexer": "ipython2",
   "version": "2.7.6"
  }
 },
 "nbformat": 4,
 "nbformat_minor": 0
}
